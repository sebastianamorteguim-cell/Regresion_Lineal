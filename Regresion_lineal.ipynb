{
  "cells": [
    {
      "cell_type": "markdown",
      "metadata": {
        "id": "view-in-github",
        "colab_type": "text"
      },
      "source": [
        "<a href=\"https://colab.research.google.com/github/sebastianamorteguim-cell/Regresion_Lineal/blob/main/Regresion_lineal.ipynb\" target=\"_parent\"><img src=\"https://colab.research.google.com/assets/colab-badge.svg\" alt=\"Open In Colab\"/></a>"
      ]
    },
    {
      "cell_type": "markdown",
      "metadata": {
        "id": "Ii_7DdtJH8e2"
      },
      "source": [
        "# Taller 3: Regresión Lineal y Conceptos Fundamentales\n",
        "\n",
        "\n"
      ],
      "id": "Ii_7DdtJH8e2"
    },
    {
      "cell_type": "markdown",
      "metadata": {
        "id": "1KuTZ6PkH8e5"
      },
      "source": [
        "## Instrucciones Generales\n",
        "\n",
        "**Fecha de entrega:** 20 de septiembre.\n",
        "**Tiempo disponible:** Tienen dos clases y el fin de semana para completar el taller.\n",
        "\n",
        "1.  **Trabajo en Grupo:** Este taller se debe realizar en los grupos previamente definidos.\n",
        "2.  **Repositorio en GitHub:** Cada grupo debe crear un repositorio en GitHub.\n",
        "    * Una sola persona del grupo es responsable de crearlo.\n",
        "    * El repositorio debe llamarse **`Regresion_Lineal`**.\n",
        "    * Este archivo debe ser subido al repositorio con el nombre **`Regresion_Lineal.ipynb`**.\n",
        "    * **Alternativa:** Si tienen complicaciones con GitHub, pueden enviar el enlace del cuaderno de Google Colab al aula virtual.\n",
        "3.  **Actividad a Mano (20% de la nota):**\n",
        "    * La asistencia a clase es **obligatoria**.\n",
        "    * Se realizará una actividad práctica de regresión lineal a mano.\n",
        "    * Cada integrante del grupo deberá firmar la hoja de la actividad, la cual constituye el 20% de la nota de este taller."
      ],
      "id": "1KuTZ6PkH8e5"
    },
    {
      "cell_type": "markdown",
      "metadata": {
        "id": "mgaEeFAbH8e7"
      },
      "source": [
        "---"
      ],
      "id": "mgaEeFAbH8e7"
    },
    {
      "cell_type": "markdown",
      "metadata": {
        "id": "et22XL5bH8e7"
      },
      "source": [
        "## **Parte 1: Definición del Problema**\n",
        "\n",
        "Piensa en tu experiencia académica o laboral en un área de operaciones y elige **un problema** relacionado con inventarios, calidad, mantenimiento o productividad.\n",
        "\n",
        "1.  Indica cuál es tu variable dependiente **$Y$** (aquello que quieres predecir o clasificar).\n",
        "2.  Lista entre 3 y 5 variables independientes **$X$** que medirías para predecir $Y$.\n",
        "3.  Especifica si tu problema es de **regresión** (predecir un valor numérico) o de **clasificación**."
      ],
      "id": "et22XL5bH8e7"
    },
    {
      "cell_type": "markdown",
      "metadata": {
        "id": "pxSLPR4AH8e8"
      },
      "source": [
        "**Respuesta (escribe aquí):**\n",
        "\n",
        "\n",
        "**Respuesta 1:** **Problema de Inventarios**\n",
        "\n",
        "**Variable dependiente (Y):** Nivel de inventario óptimo (unidades).\n",
        "\n",
        "**Variables independientes (X):**\n",
        "\n",
        "**1)** Demanda promedio semanal.\n",
        "\n",
        "**2)** Tiempo de entrega del proveedor (días).\n",
        "\n",
        "**3)** Variabilidad de la demanda (desviación estándar).\n",
        "\n",
        "**4)** Costo de almacenamiento por unidad.\n",
        "\n",
        "**Tipo de problema:** Regresión (porque se busca predecir una cantidad numérica).\n",
        "\n",
        "\n",
        "**Respuesta 2:** **Problema de Calidad**\n",
        "\n",
        "**Variable dependiente (Y):** Porcentaje de productos defectuosos en una línea de producción.\n",
        "\n",
        "**Variables independientes (X):**\n",
        "\n",
        "**1)** Horas de capacitación del personal.\n",
        "\n",
        "**2)** Temperatura de la máquina (°C).\n",
        "\n",
        "**3)** Velocidad de la línea de producción (unidades/hora).\n",
        "\n",
        "**4)** Experiencia promedio de los operarios (años).\n",
        "\n",
        "**Tipo de problema:** Regresión (predicción de un porcentaje numérico).\n",
        "\n",
        "\n",
        "**Respuesta 3:** **Problema de Productividad en Mantenimiento**\n",
        "\n",
        "**Variable dependiente (Y):** Tiempo promedio de reparación de una máquina (horas).\n",
        "\n",
        "**Variables independientes (X):**\n",
        "\n",
        "**1)** Frecuencia de fallas por mes.\n",
        "\n",
        "**2)** Antigüedad de la máquina (años).\n",
        "\n",
        "**3)** Disponibilidad de repuestos (días de espera).\n",
        "\n",
        "**4)** Número de técnicos asignados a la reparación.\n",
        "\n",
        "**Tipo de problema:** Regresión (predicción de tiempo en horas)."
      ],
      "id": "pxSLPR4AH8e8"
    },
    {
      "cell_type": "markdown",
      "metadata": {
        "id": "fGoj1KxxH8e8"
      },
      "source": [
        "---"
      ],
      "id": "fGoj1KxxH8e8"
    },
    {
      "cell_type": "markdown",
      "source": [],
      "metadata": {
        "id": "l6dNFHc3mFyG"
      },
      "id": "l6dNFHc3mFyG"
    },
    {
      "cell_type": "markdown",
      "metadata": {
        "id": "eHOtOSQiH8e9"
      },
      "source": [
        "## **Parte 2: Preprocesamiento de Datos y *Leakage***\n",
        "\n",
        "Basado en el caso que definiste en la Parte 1:\n",
        "\n",
        "1.  Lista entre 3 y 5 **transformaciones** que aplicarías a tus datos (ej. imputación de valores faltantes, codificación de variables categóricas, escalado, creación de *lags*, etc.) y **justifica por qué** cada una es necesaria.\n",
        "2.  Señala un posible riesgo de ***data leakage*** (fuga de datos) en tu plan y explica cómo lo evitarías usando un *pipeline* de preprocesamiento."
      ],
      "id": "eHOtOSQiH8e9"
    },
    {
      "cell_type": "markdown",
      "metadata": {
        "id": "6KYkmr9mH8e9"
      },
      "source": [
        "**Respuesta (escribe aquí):**\n",
        "\n",
        "**Transformaciones al problema de Productividad en Mantenimiento (Respuesta 3 de la Parte 1).**\n",
        "\n",
        "**1) Imputación de valores faltantes**\n",
        "\n",
        "**Justificación:** Los registros de fallas o de disponibilidad de repuestos pueden tener valores faltantes porque no siempre se registran correctamente. La imputación (media, mediana o un valor constante) evita perder datos valiosos.\n",
        "\n",
        "**2) Escalado de variables numéricas (Normalización o Estandarización)**\n",
        "\n",
        "**Justificación:** Variables como \"antigüedad de la máquina\" (años) y \"frecuencia de fallas\" (veces/mes) están en diferentes escalas. Esto puede sesgar el modelo de regresión. El escalado asegura que todas tengan un peso comparable.\n",
        "\n",
        "**3) Codificación de variables categóricas**\n",
        "\n",
        "**Justificación:** Si hubiera variables como “tipo de máquina” o “categoría de repuesto” (categóricas), habría que transformarlas en variables numéricas (One-Hot Encoding, por ejemplo) para que el modelo pueda usarlas.\n",
        "\n",
        "**3) Creación de variables derivadas (features)**\n",
        "\n",
        "**Justificación:** Podríamos calcular una razón como frecuencia de fallas / antigüedad de la máquina para capturar tendencias de desgaste y mejorar la predicción del tiempo de reparación.\n",
        "\n",
        "**4) Detección y tratamiento de outliers**\n",
        "\n",
        "**Justificación:** En productividad, algunos tiempos de reparación pueden ser atípicamente largos (ej. falta de repuestos por meses). Detectar y tratar estos valores mejora la estabilidad del modelo.\n",
        "\n",
        "**Posible riesgo de Data Leakage**\n",
        "\n",
        "**Riesgo:** Usar información futura sin querer. Por ejemplo, calcular el promedio anual de fallas con todos los datos (incluyendo meses posteriores al que quiero predecir) y luego usarlo como predictor.\n",
        "\n",
        "**Cómo evitarlo:**\n",
        "\n",
        "**1)** Implementar un pipeline de preprocesamiento que realice imputación, escalado y codificación solo con los datos de entrenamiento, y luego aplique las mismas transformaciones al conjunto de prueba.\n",
        "\n",
        "**2)** Para variables de tiempo (ej. creación de lags de fallas pasadas), asegurar que solo se use información disponible hasta el momento de la predicción, nunca posterior."
      ],
      "id": "6KYkmr9mH8e9"
    },
    {
      "cell_type": "markdown",
      "metadata": {
        "id": "hbyCKrY6H8e-"
      },
      "source": [
        "---"
      ],
      "id": "hbyCKrY6H8e-"
    },
    {
      "cell_type": "markdown",
      "metadata": {
        "id": "ukCTM2EKH8e-"
      },
      "source": [
        "## **Parte 3: Interpretación y Métricas de Regresión Simple**\n",
        "\n",
        "Para esta sección, elige un caso simple de regresión (puede ser el tuyo o uno hipotético, como predecir la demanda de un producto según su precio).\n",
        "\n",
        "1.  Define claramente las variables **$Y$** y **$X$** junto con sus **unidades** (ej. $Y$: número de unidades vendidas, $X$: precio en dólares).\n",
        "2.  Supón que entrenas un modelo y obtienes una pendiente de **$\\hat{\\beta}_1 = -0.6$**. Escribe una interpretación clara y concisa de este coeficiente en el contexto de tu problema.\n",
        "3.  ¿Qué **métrica** de evaluación usarías (MAE, RMSE, o MAPE) y **por qué** es la más adecuada para tu caso?\n",
        "4.  Menciona **un supuesto** del modelo de regresión lineal que validarías (ej. linealidad, homocedasticidad) y explica **cómo** lo harías (usando un gráfico o una prueba estadística)."
      ],
      "id": "ukCTM2EKH8e-"
    },
    {
      "cell_type": "markdown",
      "metadata": {
        "id": "5KGzW8pSH8e_"
      },
      "source": [
        "**Respuesta (escribe aquí):**\n",
        "\n",
        "\n",
        "**1) Definición de variables**\n",
        "\n",
        "**Variable dependiente (Y):** Número de unidades vendidas de un producto (unidades).\n",
        "\n",
        "**Variable independiente (X):** Precio del producto (en dólares).\n",
        "\n",
        "**2) Interpretación del coeficiente β¹ = −0.6**\n",
        "\n",
        "El valor de la pendiente (−0.6) significa que por cada aumento de 1 dólar en el precio del producto, las ventas disminuyen en promedio 0.6 unidades.\n",
        "En otras palabras, existe una relación inversa: a mayor precio, menor demanda.\n",
        "\n",
        "**3) Métrica de evaluación adecuada**\n",
        "\n",
        "**Elección:** RMSE (Root Mean Squared Error).\n",
        "\n",
        "**Justificación:**\n",
        "\n",
        "Mide el error promedio en las mismas unidades de la variable dependiente (unidades vendidas).\n",
        "\n",
        "Penaliza más los errores grandes, lo cual es importante si una mala predicción de la demanda puede generar costos altos (ej. exceso de inventario o quiebre de stock).\n",
        "\n",
        "**4) Supuesto del modelo a validar**\n",
        "\n",
        "Supuesto elegido: Linealidad (la relación entre X y Y debe ser lineal).\n",
        "\n",
        "**Cómo validarlo:**\n",
        "\n",
        "Graficar un diagrama de dispersión entre precio (X) y unidades vendidas (Y) con la recta de regresión superpuesta.\n",
        "\n",
        "Si los puntos se distribuyen de forma aproximadamente recta alrededor de la línea, el supuesto se cumple.\n",
        "\n",
        "Si se observa curvatura, se podría considerar transformar la variable (ej. logaritmo del precio) o probar un modelo no lineal."
      ],
      "id": "5KGzW8pSH8e_"
    },
    {
      "cell_type": "markdown",
      "metadata": {
        "id": "NlCf92svH8e_"
      },
      "source": [
        "---"
      ],
      "id": "NlCf92svH8e_"
    },
    {
      "cell_type": "markdown",
      "metadata": {
        "id": "DEOrd_fSH8e_"
      },
      "source": [
        "## **Parte 4: Regresión Múltiple y Colinealidad**\n",
        "\n",
        "Volviendo a tu caso de la Parte 1 (con múltiples variables).\n",
        "\n",
        "1.  Escribe el **vector de variables** $\\vec{X}$ y la **respuesta** $Y$.\n",
        "2.  Explica cómo interpretarías el **coeficiente** de una de tus variables clave (incluyendo unidades y el sentido de la relación: positiva o negativa).\n",
        "3.  Si sospecharas que existe **colinealidad** entre tus variables, menciona **dos acciones** que podrías tomar para mitigarla."
      ],
      "id": "DEOrd_fSH8e_"
    },
    {
      "cell_type": "markdown",
      "metadata": {
        "id": "REUWPUP_H8fA"
      },
      "source": [
        "**Respuesta (escribe aquí):**\n",
        "\n",
        "**1) Vector de variables y respuesta**\n",
        "\n",
        "**Respuesta (Y):** Tiempo promedio de reparación de una máquina (horas).\n",
        "\n",
        "**Vector de variables (X⃗ ):**\n",
        "\n",
        "**X₁ =** Frecuencia de fallas por mes (número de fallas).\n",
        "\n",
        "**X₂ =** Antigüedad de la máquina (años).\n",
        "\n",
        "**X₃ =** Disponibilidad de repuestos (días de espera).\n",
        "\n",
        "**X₄ =** Número de técnicos asignados a la reparación (personas).\n",
        "\n",
        "**2) Interpretación de un coeficiente**\n",
        "\n",
        "Supongamos que el coeficiente estimado para X₃ (disponibilidad de repuestos) es **β₃ = +0.8.**\n",
        "\n",
        "**Interpretación:**\n",
        "\n",
        "**'** Por cada día adicional de espera en la llegada de repuestos, el tiempo promedio de reparación aumenta en 0.8 horas, manteniendo constantes las demás variables.\n",
        "\n",
        "**'** El signo positivo indica que mayor demora en los repuestos → mayor tiempo de reparación.\n",
        "\n",
        "**3) Acciones para mitigar colinealidad**\n",
        "\n",
        "Si se sospecha colinealidad (alta correlación entre las variables independientes), se pueden tomar estas acciones:\n",
        "\n",
        "**1)** Eliminar o combinar variables correlacionadas\n",
        "\n",
        "**'** Ejemplo: si \"frecuencia de fallas\" y \"antigüedad de la máquina\" están muy correlacionadas, se puede crear una sola variable derivada (ej. índice de desgaste) y eliminar una de las originales.\n",
        "\n",
        "**2)** Usar regularización (Ridge o Lasso Regression)\n",
        "\n",
        "**'** Ridge (penaliza los coeficientes grandes) ayuda a distribuir el peso entre variables correlacionadas.\n",
        "\n",
        "**'** Lasso puede incluso eliminar variables irrelevantes al forzar coeficientes a cero."
      ],
      "id": "REUWPUP_H8fA"
    },
    {
      "cell_type": "markdown",
      "metadata": {
        "id": "Kfz2bBkzH8fA"
      },
      "source": [
        "---"
      ],
      "id": "Kfz2bBkzH8fA"
    },
    {
      "cell_type": "markdown",
      "metadata": {
        "id": "d0sQYW3DH8fA"
      },
      "source": [
        "## **Parte 5: Interacciones y Multicolinealidad (VIF)**\n",
        "\n",
        "1.  Plantea un caso con una variable $Y$ y entre 4 y 6 variables $X$. ¿Qué término de **interacción** entre dos variables podrías añadir al modelo y **por qué** crees que sería útil?\n",
        "2.  Si al calcular el Factor de Inflación de la Varianza (VIF) para una variable, obtienes un valor alto (ej. > 10), menciona **dos acciones** que podrías tomar para solucionarlo."
      ],
      "id": "d0sQYW3DH8fA"
    },
    {
      "cell_type": "markdown",
      "metadata": {
        "id": "tEgefQ1cH8fA"
      },
      "source": [
        "**Respuesta (escribe aquí):**\n",
        "\n",
        "**1) Caso planteado**\n",
        "\n",
        "**Variable dependiente (Y):** Consumo de combustible de una máquina industrial (litros por hora).\n",
        "\n",
        "**Variables independientes (X⃗ ):**\n",
        "\n",
        "**X₁ =** Carga de trabajo aplicada (kg).\n",
        "\n",
        "**X₂ =** Horas de uso continuo (h).\n",
        "\n",
        "**X₃ =** Antigüedad de la máquina (años).\n",
        "\n",
        "**X₄ =** Temperatura ambiente (°C).\n",
        "\n",
        "**X₅ =** Número de mantenimientos preventivos realizados (unidades).\n",
        "\n",
        "**2) Término de interacción**\n",
        "\n",
        "**Ejemplo:** Interacción entre X₁ (carga de trabajo) y X₂ (horas de uso continuo) → X₁ * X₂.\n",
        "\n",
        "**Justificación:**\n",
        "\n",
        "**'** El efecto de la carga sobre el consumo de combustible no es el mismo si la máquina trabaja pocas horas o muchas horas seguidas.\n",
        "\n",
        "**'** A mayor carga y mayor tiempo de uso, el consumo puede aumentar de forma multiplicada (no solo sumada).\n",
        "\n",
        "**'** El término de interacción captura este efecto combinado.\n",
        "\n",
        "**3) Acciones frente a VIF alto (>10)**\n",
        "\n",
        "Si al calcular el Factor de Inflación de la Varianza (VIF) una variable muestra multicolinealidad:\n",
        "\n",
        "**1) Eliminar o combinar variables altamente correlacionadas**\n",
        "\n",
        "Ejemplo: si \"antigüedad\" y \"número de mantenimientos\" están muy correlacionados, se puede eliminar una o combinarlas en un índice.\n",
        "\n",
        "**2) Aplicar regularización (Ridge o Lasso Regression)**\n",
        "\n",
        "**'** Ridge reduce el impacto de multicolinealidad al penalizar coeficientes grandes.\n",
        "\n",
        "**'** Lasso incluso puede llevar algunos coeficientes a cero, dejando solo las variables más relevantes."
      ],
      "id": "tEgefQ1cH8fA"
    },
    {
      "cell_type": "markdown",
      "metadata": {
        "id": "8XdQIyu_H8fB"
      },
      "source": [
        "---"
      ],
      "id": "8XdQIyu_H8fB"
    },
    {
      "cell_type": "markdown",
      "metadata": {
        "id": "XKsr-uPlH8fB"
      },
      "source": [
        "## **Parte 6: Variables Categóricas e Interacciones**\n",
        "\n",
        "1.  Define una **variable categórica** para tu caso (puedes inventarla si no la tenías). Elige una de sus categorías como el nivel **base** o de referencia y **justifica** tu elección.\n",
        "2.  Crea una **interacción** entre una variable numérica y la variable categórica que definiste. Explica cómo se interpretaría el coeficiente de esta interacción."
      ],
      "id": "XKsr-uPlH8fB"
    },
    {
      "cell_type": "markdown",
      "metadata": {
        "id": "7i_JBwwbH8fC"
      },
      "source": [
        "**Respuesta (escribe aquí):**\n",
        "\n",
        "**1) Variable categórica**\n",
        "\n",
        "**Variable categórica definida:** Tipo de máquina.\n",
        "\n",
        "**Categorías:** {“Ligera”, “Mediana”, “Pesada”}.\n",
        "\n",
        "**Nivel base elegido:** “Ligera”.\n",
        "\n",
        "**Justificación:**\n",
        "\n",
        "**'** Se elige como referencia porque es la categoría con menor complejidad operativa y normalmente con menores tiempos de reparación.\n",
        "\n",
        "**'** Esto permite comparar directamente cómo los tiempos de reparación en máquinas “Medianas” y “Pesadas” difieren respecto a las “Ligeras”.\n",
        "\n",
        "**2) Interacción entre variable numérica y categórica**\n",
        "\n",
        "**Interacción creada:** Antigüedad de la máquina (X₂, en años) × Tipo de máquina (categórica).\n",
        "\n",
        "**Interpretación del coeficiente de la interacción:**\n",
        "\n",
        "**'** Si el coeficiente de la interacción Antigüedad × Pesada es +1.5, significa que cada año adicional de antigüedad en una máquina pesada incrementa el tiempo de reparación en 1.5 horas más que en una máquina ligera (categoría base).\n",
        "\n",
        "**'** En otras palabras, el efecto de la antigüedad no es igual para todas las categorías: en máquinas ligeras puede ser bajo, pero en máquinas pesadas se amplifica significativamente."
      ],
      "id": "7i_JBwwbH8fC"
    },
    {
      "cell_type": "markdown",
      "metadata": {
        "id": "DjYrQWpqH8fC"
      },
      "source": [
        "---"
      ],
      "id": "DjYrQWpqH8fC"
    },
    {
      "cell_type": "markdown",
      "metadata": {
        "id": "mG9YJpeoH8fC"
      },
      "source": [
        "## **Parte 7: Conceptos Clave de Clasificación**\n",
        "\n",
        "Aunque el taller se centra en regresión, estos conceptos son fundamentales en Machine Learning.\n",
        "\n",
        "1.  Explica qué es la **curva ROC** y para qué se utiliza en un problema de clasificación.\n",
        "2.  Define el concepto de **accuracy** (exactitud) y menciona una situación en la que podría ser una métrica engañosa.\n",
        "3.  Describe qué es una **matriz de confusión** y cómo se interpretan sus componentes (Verdaderos Positivos, Falsos Positivos, Verdaderos Negativos, Falsos Negativos)."
      ],
      "id": "mG9YJpeoH8fC"
    },
    {
      "cell_type": "markdown",
      "metadata": {
        "id": "aq-cYN3nH8fD"
      },
      "source": [
        "**Respuesta (escribe aquí):**\n",
        "\n",
        "\n",
        "**1) Curva ROC**\n",
        "\n",
        "La **Curva ROC (Receiver Operating Characteristic)** es un gráfico que muestra el desempeño de un modelo de clasificación binaria.  \n",
        "**Eje X:** Tasa de Falsos Positivos (FPR).  \n",
        "**Eje Y:** Tasa de Verdaderos Positivos (TPR o Recall).  \n",
        "Se utiliza para evaluar la capacidad de un modelo para distinguir entre clases.  \n",
        "El **Área Bajo la Curva (AUC-ROC)** resume su desempeño: valores cercanos a 1 indican un modelo excelente.\n",
        "\n",
        "**2) Accuracy (Exactitud)**\n",
        "\n",
        "El **accuracy** mide la proporción de predicciones correctas respecto al total:\n",
        "\n",
        "\\[\n",
        "Accuracy = \\frac{TP + TN}{TP + TN + FP + FN}\n",
        "\\]\n",
        "\n",
        " Puede ser **engañosa en clases desbalanceadas**.  \n",
        "Ejemplo: Si el 95% de los casos son negativos y el modelo siempre predice “negativo”, tendrá 95% de accuracy aunque nunca detecte un positivo.\n",
        "\n",
        "**3) Matriz de Confusión**\n",
        "\n",
        "Tabla que compara predicciones con los valores reales:\n",
        "\n",
        "|                      | Predicción Positiva | Predicción Negativa |\n",
        "|----------------------|----------------------|----------------------|\n",
        "| **Real Positivo**    | **TP** (Verdaderos Positivos) | **FN** (Falsos Negativos) |\n",
        "| **Real Negativo**    | **FP** (Falsos Positivos)     | **TN** (Verdaderos Negativos) |\n",
        "\n",
        "**TP:** Aciertos al predecir positivos.  \n",
        "**TN:** Aciertos al predecir negativos.  \n",
        "**FP:** Alarmas falsas (predijo positivo cuando era negativo).  \n",
        "**FN:** Omisiones (predijo negativo cuando era positivo).  \n",
        "\n",
        "\n"
      ],
      "id": "aq-cYN3nH8fD"
    }
  ],
  "metadata": {
    "kernelspec": {
      "display_name": "Python 3",
      "language": "python",
      "name": "python3"
    },
    "language_info": {
      "name": "python",
      "version": "3.x"
    },
    "colab": {
      "provenance": [],
      "include_colab_link": true
    }
  },
  "nbformat": 4,
  "nbformat_minor": 5
}